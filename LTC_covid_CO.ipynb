{
 "cells": [
  {
   "cell_type": "markdown",
   "metadata": {},
   "source": [
    "# To do\n",
    "\n",
    " - [ ] Define Long Term Care (Data struc that includes all mapped setting types in long term care)\n",
    " - [ ] Find all resident deaths in long term care\n",
    " - [ ] Have THE TEAM define mapping of setting types to LTC, Nusing, etc. "
   ]
  },
  {
   "cell_type": "code",
   "execution_count": 1,
   "metadata": {},
   "outputs": [],
   "source": [
    "import pandas as pd"
   ]
  },
  {
   "cell_type": "code",
   "execution_count": 2,
   "metadata": {},
   "outputs": [],
   "source": [
    "df = pd.read_excel(\"https://covid19.colorado.gov/sites/covid19/files/2020-05/colorado_covid-19_outbreaks.xlsx\",sheet_name=1)"
   ]
  },
  {
   "cell_type": "code",
   "execution_count": 3,
   "metadata": {},
   "outputs": [
    {
     "data": {
      "text/plain": [
       "array(['Healthcare, assisted living residence',\n",
       "       'Healthcare, skilled nursing facility', 'Prison/jail', 'Other',\n",
       "       'Healthcare other', 'Farm/dairy', 'Healthcare, combined care',\n",
       "       'Group home', 'Independent Living Facility', 'Restaurant sit down',\n",
       "       'Grocery store', 'Restaurant  fast food',\n",
       "       'Office/indoor workspace', 'Child care center'], dtype=object)"
      ]
     },
     "execution_count": 3,
     "metadata": {},
     "output_type": "execute_result"
    }
   ],
   "source": [
    "df['Setting type'].unique()"
   ]
  },
  {
   "cell_type": "code",
   "execution_count": 12,
   "metadata": {},
   "outputs": [],
   "source": [
    "LTC_map = ['Healthcare, assisted living residence']\n",
    "NH_NSF_map = ['Healthcare, skilled nursing facility']\n",
    "ALF_map = ['Healthcare other']"
   ]
  },
  {
   "cell_type": "code",
   "execution_count": 5,
   "metadata": {},
   "outputs": [],
   "source": []
  },
  {
   "cell_type": "code",
   "execution_count": 13,
   "metadata": {},
   "outputs": [],
   "source": [
    "ctp_to_co_mapping = {\n",
    "    'Resident Positives': ['Number of residents positive for COVID-19 (lab confirmed)'], \n",
    "    'Resident Deaths': ['Number of COVID-19 deaths (lab confirmed/confirmed)'],\n",
    "    'Staff Positives': ['Number of staff who are positive for COVID-19 (lab confirmed)'],\n",
    "    'Staff Deaths LTC': ['Number of COVID-19 staff deaths (lab confirmed/confirmed)'],\n",
    "    'Resident/Staff Positives': ['Number of staff who are positive for COVID-19 (lab confirmed)', 'Number of residents positive for COVID-19 (lab confirmed)'],\n",
    "    'Resident/Staff Deaths': ['Number of COVID-19 deaths (lab confirmed/confirmed)', 'Number of COVID-19 staff deaths (lab confirmed/confirmed)'],\n",
    "    #'Number of Facilities (with outbreaks)':  to do\n",
    "}"
   ]
  },
  {
   "cell_type": "code",
   "execution_count": 18,
   "metadata": {
    "scrolled": true
   },
   "outputs": [
    {
     "data": {
      "text/plain": [
       "{'LTC Resident Positives': 271.0,\n",
       " 'NH Resident Positives': 1069.0,\n",
       " 'ALF Resident Positives': 56.0,\n",
       " 'LTC Resident Deaths': 91.0,\n",
       " 'NH Resident Deaths': 267.0,\n",
       " 'ALF Resident Deaths': 24.0,\n",
       " 'LTC Staff Positives': 148.0,\n",
       " 'NH Staff Positives': 767.0,\n",
       " 'ALF Staff Positives': 39.0,\n",
       " 'LTC Staff Deaths LTC': 0.0,\n",
       " 'NH Staff Deaths LTC': 1.0,\n",
       " 'ALF Staff Deaths LTC': 0.0,\n",
       " 'LTC Resident/Staff Positives': 419.0,\n",
       " 'NH Resident/Staff Positives': 1836.0,\n",
       " 'ALF Resident/Staff Positives': 95.0,\n",
       " 'LTC Resident/Staff Deaths': 91.0,\n",
       " 'NH Resident/Staff Deaths': 268.0,\n",
       " 'ALF Resident/Staff Deaths': 24.0}"
      ]
     },
     "execution_count": 18,
     "metadata": {},
     "output_type": "execute_result"
    }
   ],
   "source": [
    "ctp_ltc_items = {}\n",
    "for key, value in ctp_to_co_mapping.items():\n",
    "    ctp_ltc_items['LTC ' + key] =  df[df['Setting type'].isin(LTC_map)][value].sum().sum()\n",
    "    ctp_ltc_items['NH ' + key] =  df[df['Setting type'].isin(NH_NSF_map)][value].sum().sum()\n",
    "    ctp_ltc_items['ALF ' + key] =  df[df['Setting type'].isin(ALF_map)][value].sum().sum()\n",
    "   \n",
    "\n",
    "ctp_ltc_items "
   ]
  },
  {
   "cell_type": "code",
   "execution_count": 21,
   "metadata": {},
   "outputs": [
    {
     "data": {
      "text/html": [
       "<div>\n",
       "<style scoped>\n",
       "    .dataframe tbody tr th:only-of-type {\n",
       "        vertical-align: middle;\n",
       "    }\n",
       "\n",
       "    .dataframe tbody tr th {\n",
       "        vertical-align: top;\n",
       "    }\n",
       "\n",
       "    .dataframe thead th {\n",
       "        text-align: right;\n",
       "    }\n",
       "</style>\n",
       "<table border=\"1\" class=\"dataframe\">\n",
       "  <thead>\n",
       "    <tr style=\"text-align: right;\">\n",
       "      <th></th>\n",
       "      <th>LTC Resident Positives</th>\n",
       "      <th>NH Resident Positives</th>\n",
       "      <th>ALF Resident Positives</th>\n",
       "      <th>LTC Resident Deaths</th>\n",
       "      <th>NH Resident Deaths</th>\n",
       "      <th>ALF Resident Deaths</th>\n",
       "      <th>LTC Staff Positives</th>\n",
       "      <th>NH Staff Positives</th>\n",
       "      <th>ALF Staff Positives</th>\n",
       "      <th>LTC Staff Deaths LTC</th>\n",
       "      <th>NH Staff Deaths LTC</th>\n",
       "      <th>ALF Staff Deaths LTC</th>\n",
       "      <th>LTC Resident/Staff Positives</th>\n",
       "      <th>NH Resident/Staff Positives</th>\n",
       "      <th>ALF Resident/Staff Positives</th>\n",
       "      <th>LTC Resident/Staff Deaths</th>\n",
       "      <th>NH Resident/Staff Deaths</th>\n",
       "      <th>ALF Resident/Staff Deaths</th>\n",
       "    </tr>\n",
       "  </thead>\n",
       "  <tbody>\n",
       "    <tr>\n",
       "      <th>0</th>\n",
       "      <td>271.0</td>\n",
       "      <td>1069.0</td>\n",
       "      <td>56.0</td>\n",
       "      <td>91.0</td>\n",
       "      <td>267.0</td>\n",
       "      <td>24.0</td>\n",
       "      <td>148.0</td>\n",
       "      <td>767.0</td>\n",
       "      <td>39.0</td>\n",
       "      <td>0.0</td>\n",
       "      <td>1.0</td>\n",
       "      <td>0.0</td>\n",
       "      <td>419.0</td>\n",
       "      <td>1836.0</td>\n",
       "      <td>95.0</td>\n",
       "      <td>91.0</td>\n",
       "      <td>268.0</td>\n",
       "      <td>24.0</td>\n",
       "    </tr>\n",
       "  </tbody>\n",
       "</table>\n",
       "</div>"
      ],
      "text/plain": [
       "   LTC Resident Positives  NH Resident Positives  ALF Resident Positives  \\\n",
       "0                   271.0                 1069.0                    56.0   \n",
       "\n",
       "   LTC Resident Deaths  NH Resident Deaths  ALF Resident Deaths  \\\n",
       "0                 91.0               267.0                 24.0   \n",
       "\n",
       "   LTC Staff Positives  NH Staff Positives  ALF Staff Positives  \\\n",
       "0                148.0               767.0                 39.0   \n",
       "\n",
       "   LTC Staff Deaths LTC  NH Staff Deaths LTC  ALF Staff Deaths LTC  \\\n",
       "0                   0.0                  1.0                   0.0   \n",
       "\n",
       "   LTC Resident/Staff Positives  NH Resident/Staff Positives  \\\n",
       "0                         419.0                       1836.0   \n",
       "\n",
       "   ALF Resident/Staff Positives  LTC Resident/Staff Deaths  \\\n",
       "0                          95.0                       91.0   \n",
       "\n",
       "   NH Resident/Staff Deaths  ALF Resident/Staff Deaths  \n",
       "0                     268.0                       24.0  "
      ]
     },
     "execution_count": 21,
     "metadata": {},
     "output_type": "execute_result"
    }
   ],
   "source": [
    "pd.DataFrame([ctp_ltc_items])"
   ]
  },
  {
   "cell_type": "code",
   "execution_count": null,
   "metadata": {},
   "outputs": [],
   "source": []
  },
  {
   "cell_type": "code",
   "execution_count": null,
   "metadata": {},
   "outputs": [],
   "source": []
  },
  {
   "cell_type": "code",
   "execution_count": null,
   "metadata": {},
   "outputs": [],
   "source": []
  }
 ],
 "metadata": {
  "kernelspec": {
   "display_name": "Python 3",
   "language": "python",
   "name": "python3"
  },
  "language_info": {
   "codemirror_mode": {
    "name": "ipython",
    "version": 3
   },
   "file_extension": ".py",
   "mimetype": "text/x-python",
   "name": "python",
   "nbconvert_exporter": "python",
   "pygments_lexer": "ipython3",
   "version": "3.7.6"
  }
 },
 "nbformat": 4,
 "nbformat_minor": 4
}
