{
 "cells": [
  {
   "cell_type": "markdown",
   "metadata": {},
   "source": [
    "# To do\n",
    "\n",
    " - [ ] Define Long Term Care (Data struc that includes all mapped setting types in long term care)\n",
    " - [ ] Find all resident deaths in long term care\n",
    " - [ ] Have THE TEAM define mapping of setting types to LTC, Nusing, etc. "
   ]
  },
  {
   "cell_type": "code",
   "execution_count": 1,
   "metadata": {},
   "outputs": [],
   "source": [
    "import pandas as pd"
   ]
  },
  {
   "cell_type": "code",
   "execution_count": 2,
   "metadata": {},
   "outputs": [],
   "source": [
    "df = pd.read_excel(\"https://covid19.colorado.gov/sites/covid19/files/2020-05/colorado_covid-19_outbreaks.xlsx\",sheet_name=1)"
   ]
  },
  {
   "cell_type": "code",
   "execution_count": 3,
   "metadata": {},
   "outputs": [],
   "source": [
    "LTC_map = ['Healthcare, assisted living residence', 'Healthcare, skilled nursing facility']"
   ]
  },
  {
   "cell_type": "code",
   "execution_count": 4,
   "metadata": {
    "scrolled": true
   },
   "outputs": [
    {
     "data": {
      "text/plain": [
       "358.0"
      ]
     },
     "execution_count": 4,
     "metadata": {},
     "output_type": "execute_result"
    }
   ],
   "source": [
    "res_deaths =  df[df['Setting type'].isin(LTC_map)]['Number of COVID-19 deaths (lab confirmed/confirmed)'].sum()\n",
    "res_deaths"
   ]
  },
  {
   "cell_type": "code",
   "execution_count": 5,
   "metadata": {},
   "outputs": [],
   "source": [
    "ctp_to_co_mapping = {\n",
    "    'Resident Positives': ['Number of residents positive for COVID-19 (lab confirmed)'], \n",
    "    'Resident Deaths': ['Number of COVID-19 deaths (lab confirmed/confirmed)'],\n",
    "    'Staff Positives': ['Number of staff who are positive for COVID-19 (lab confirmed)'],\n",
    "    'Staff Deaths LTC': ['Number of COVID-19 staff deaths (lab confirmed/confirmed)'],\n",
    "    'Resident/Staff Positives': ['Number of staff who are positive for COVID-19 (lab confirmed)', 'Number of residents positive for COVID-19 (lab confirmed)'],\n",
    "    'Resident/Staff Deaths': ['Number of COVID-19 deaths (lab confirmed/confirmed)', 'Number of COVID-19 staff deaths (lab confirmed/confirmed)'],\n",
    "    #'Number of Facilities (with outbreaks)':  to do\n",
    "}"
   ]
  },
  {
   "cell_type": "code",
   "execution_count": 6,
   "metadata": {},
   "outputs": [
    {
     "data": {
      "text/plain": [
       "{'Resident Positives': Number of residents positive for COVID-19 (lab confirmed)    1340.0\n",
       " dtype: float64,\n",
       " 'Resident Deaths': Number of COVID-19 deaths (lab confirmed/confirmed)    358.0\n",
       " dtype: float64,\n",
       " 'Staff Positives': Number of staff who are positive for COVID-19 (lab confirmed)    915.0\n",
       " dtype: float64,\n",
       " 'Staff Deaths LTC': Number of COVID-19 staff deaths (lab confirmed/confirmed)    1.0\n",
       " dtype: float64,\n",
       " 'Resident/Staff Positives': Number of staff who are positive for COVID-19 (lab confirmed)     915.0\n",
       " Number of residents positive for COVID-19 (lab confirmed)        1340.0\n",
       " dtype: float64,\n",
       " 'Resident/Staff Deaths': Number of COVID-19 deaths (lab confirmed/confirmed)          358.0\n",
       " Number of COVID-19 staff deaths (lab confirmed/confirmed)      1.0\n",
       " dtype: float64}"
      ]
     },
     "execution_count": 6,
     "metadata": {},
     "output_type": "execute_result"
    }
   ],
   "source": [
    "ctp_ltc_items = {}\n",
    "for key, value in ctp_to_co_mapping.items():\n",
    "    ctp_ltc_items[key] =  df[df['Setting type'].isin(LTC_map)][value].sum()\n",
    "\n",
    "ctp_ltc_items "
   ]
  },
  {
   "cell_type": "code",
   "execution_count": 7,
   "metadata": {},
   "outputs": [
    {
     "data": {
      "text/html": [
       "<div>\n",
       "<style scoped>\n",
       "    .dataframe tbody tr th:only-of-type {\n",
       "        vertical-align: middle;\n",
       "    }\n",
       "\n",
       "    .dataframe tbody tr th {\n",
       "        vertical-align: top;\n",
       "    }\n",
       "\n",
       "    .dataframe thead th {\n",
       "        text-align: right;\n",
       "    }\n",
       "</style>\n",
       "<table border=\"1\" class=\"dataframe\">\n",
       "  <thead>\n",
       "    <tr style=\"text-align: right;\">\n",
       "      <th></th>\n",
       "      <th>Resident Positives</th>\n",
       "      <th>Resident Deaths</th>\n",
       "      <th>Staff Positives</th>\n",
       "      <th>Staff Deaths LTC</th>\n",
       "      <th>Resident/Staff Positives</th>\n",
       "      <th>Resident/Staff Deaths</th>\n",
       "    </tr>\n",
       "  </thead>\n",
       "  <tbody>\n",
       "    <tr>\n",
       "      <th>Number of COVID-19 deaths (lab confirmed/confirmed)</th>\n",
       "      <td>NaN</td>\n",
       "      <td>358.0</td>\n",
       "      <td>NaN</td>\n",
       "      <td>NaN</td>\n",
       "      <td>NaN</td>\n",
       "      <td>358.0</td>\n",
       "    </tr>\n",
       "    <tr>\n",
       "      <th>Number of COVID-19 staff deaths (lab confirmed/confirmed)</th>\n",
       "      <td>NaN</td>\n",
       "      <td>NaN</td>\n",
       "      <td>NaN</td>\n",
       "      <td>1.0</td>\n",
       "      <td>NaN</td>\n",
       "      <td>1.0</td>\n",
       "    </tr>\n",
       "    <tr>\n",
       "      <th>Number of residents positive for COVID-19 (lab confirmed)</th>\n",
       "      <td>1340.0</td>\n",
       "      <td>NaN</td>\n",
       "      <td>NaN</td>\n",
       "      <td>NaN</td>\n",
       "      <td>1340.0</td>\n",
       "      <td>NaN</td>\n",
       "    </tr>\n",
       "    <tr>\n",
       "      <th>Number of staff who are positive for COVID-19 (lab confirmed)</th>\n",
       "      <td>NaN</td>\n",
       "      <td>NaN</td>\n",
       "      <td>915.0</td>\n",
       "      <td>NaN</td>\n",
       "      <td>915.0</td>\n",
       "      <td>NaN</td>\n",
       "    </tr>\n",
       "  </tbody>\n",
       "</table>\n",
       "</div>"
      ],
      "text/plain": [
       "                                                    Resident Positives  \\\n",
       "Number of COVID-19 deaths (lab confirmed/confir...                 NaN   \n",
       "Number of COVID-19 staff deaths (lab confirmed/...                 NaN   \n",
       "Number of residents positive for COVID-19 (lab ...              1340.0   \n",
       "Number of staff who are positive for COVID-19 (...                 NaN   \n",
       "\n",
       "                                                    Resident Deaths  \\\n",
       "Number of COVID-19 deaths (lab confirmed/confir...            358.0   \n",
       "Number of COVID-19 staff deaths (lab confirmed/...              NaN   \n",
       "Number of residents positive for COVID-19 (lab ...              NaN   \n",
       "Number of staff who are positive for COVID-19 (...              NaN   \n",
       "\n",
       "                                                    Staff Positives  \\\n",
       "Number of COVID-19 deaths (lab confirmed/confir...              NaN   \n",
       "Number of COVID-19 staff deaths (lab confirmed/...              NaN   \n",
       "Number of residents positive for COVID-19 (lab ...              NaN   \n",
       "Number of staff who are positive for COVID-19 (...            915.0   \n",
       "\n",
       "                                                    Staff Deaths LTC  \\\n",
       "Number of COVID-19 deaths (lab confirmed/confir...               NaN   \n",
       "Number of COVID-19 staff deaths (lab confirmed/...               1.0   \n",
       "Number of residents positive for COVID-19 (lab ...               NaN   \n",
       "Number of staff who are positive for COVID-19 (...               NaN   \n",
       "\n",
       "                                                    Resident/Staff Positives  \\\n",
       "Number of COVID-19 deaths (lab confirmed/confir...                       NaN   \n",
       "Number of COVID-19 staff deaths (lab confirmed/...                       NaN   \n",
       "Number of residents positive for COVID-19 (lab ...                    1340.0   \n",
       "Number of staff who are positive for COVID-19 (...                     915.0   \n",
       "\n",
       "                                                    Resident/Staff Deaths  \n",
       "Number of COVID-19 deaths (lab confirmed/confir...                  358.0  \n",
       "Number of COVID-19 staff deaths (lab confirmed/...                    1.0  \n",
       "Number of residents positive for COVID-19 (lab ...                    NaN  \n",
       "Number of staff who are positive for COVID-19 (...                    NaN  "
      ]
     },
     "execution_count": 7,
     "metadata": {},
     "output_type": "execute_result"
    }
   ],
   "source": [
    "pd.DataFrame(ctp_ltc_items)"
   ]
  },
  {
   "cell_type": "code",
   "execution_count": 8,
   "metadata": {},
   "outputs": [
    {
     "name": "stderr",
     "output_type": "stream",
     "text": [
      "'pwd' is not recognized as an internal or external command,\n",
      "operable program or batch file.\n"
     ]
    }
   ],
   "source": [
    "!pwd"
   ]
  },
  {
   "cell_type": "code",
   "execution_count": 9,
   "metadata": {},
   "outputs": [
    {
     "name": "stdout",
     "output_type": "stream",
     "text": [
      " Volume in drive C is Windows\n",
      " Volume Serial Number is D8CB-F30B\n",
      "\n",
      " Directory of C:\\Users\\dog27\\Covid track CO\n",
      "\n",
      "05/18/2020  06:54 PM    <DIR>          .\n",
      "05/18/2020  06:54 PM    <DIR>          ..\n",
      "05/18/2020  06:54 PM    <DIR>          .ipynb_checkpoints\n",
      "05/18/2020  06:49 PM             9,505 LTC_covid_CO.ipynb\n",
      "               1 File(s)          9,505 bytes\n",
      "               3 Dir(s)  170,728,923,136 bytes free\n"
     ]
    }
   ],
   "source": [
    "!dir"
   ]
  },
  {
   "cell_type": "code",
   "execution_count": null,
   "metadata": {},
   "outputs": [],
   "source": []
  }
 ],
 "metadata": {
  "kernelspec": {
   "display_name": "Python 3",
   "language": "python",
   "name": "python3"
  },
  "language_info": {
   "codemirror_mode": {
    "name": "ipython",
    "version": 3
   },
   "file_extension": ".py",
   "mimetype": "text/x-python",
   "name": "python",
   "nbconvert_exporter": "python",
   "pygments_lexer": "ipython3",
   "version": "3.7.6"
  }
 },
 "nbformat": 4,
 "nbformat_minor": 4
}
